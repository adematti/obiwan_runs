{
 "cells": [
  {
   "cell_type": "code",
   "execution_count": 1,
   "metadata": {},
   "outputs": [
    {
     "name": "stderr",
     "output_type": "stream",
     "text": [
      "WARNING: leap-second auto-update failed due to the following exception: RuntimeError('Cache is locked after 5.01 s. This may indicate an astropy bug or that kill -9 was used. If you want to unlock the cache remove the directory /global/homes/a/adematti/.astropy/cache/download/py3/lock. Lock claims to be held by process 5959.') [astropy.time.core]\n"
     ]
    }
   ],
   "source": [
    "import os\n",
    "import numpy as np\n",
    "from matplotlib import pyplot as plt\n",
    "from photometry import *\n",
    "import settings_north as settings"
   ]
  },
  {
   "cell_type": "code",
   "execution_count": 14,
   "metadata": {},
   "outputs": [
    {
     "name": "stdout",
     "output_type": "stream",
     "text": [
      "4858 4858\n"
     ]
    }
   ],
   "source": [
    "brickname = settings.get_bricknames()[3]\n",
    "#brickname = '2085p622'\n",
    "fn = os.path.join(settings.output_dir,'tractor',brickname[:3],brickname,'file0_rs0_skip0','tractor-%s.fits' % brickname)\n",
    "fnref = os.path.join(settings.output_dir,'tractor',brickname[:3],'tractor-%s.fits' % brickname)\n",
    "cat = Catalogue.load(fn)\n",
    "catref = Catalogue.load(fnref)\n",
    "print(cat.size,catref.size)"
   ]
  },
  {
   "cell_type": "code",
   "execution_count": 21,
   "metadata": {},
   "outputs": [
    {
     "name": "stdout",
     "output_type": "stream",
     "text": [
      "gaia_phot_bp_mean_mag 0 nan\n",
      "gaia_phot_bp_mean_flux_over_error 0 nan\n",
      "gaia_phot_rp_mean_mag 0 nan\n",
      "gaia_phot_rp_mean_flux_over_error 0 nan\n",
      "gaia_a_g_val 0 nan\n",
      "gaia_e_bp_min_rp_val 0 nan\n",
      "gaia_phot_bp_rp_excess_factor 0 nan\n",
      "apflux_z 2546 3.0517578e-05\n",
      "apflux_resid_z 11725 3.8146973e-06\n",
      "apflux_blobresid_z 11903 2.503395e-06\n",
      "apflux_ivar_z 1049 6.1035156e-05\n",
      "psfsize_z 811 1.1920929e-07\n",
      "psfdepth_z 726 0.0\n",
      "blob_nea_z 1315 7.6293945e-06\n"
     ]
    }
   ],
   "source": [
    "for field in catref:\n",
    "    mask = cat[field] != catref[field]\n",
    "    if mask.any():\n",
    "        mask &= ~np.isnan(catref[field])\n",
    "        print(field,mask.sum(),np.max(cat[field]-catref[field]))\n",
    "        if not isinstance(cat[field].flat[0],np.floating):\n",
    "            print(cat[field][0])\n",
    "        \"\"\"\n",
    "        if isinstance(cat[field][0],np.floating):\n",
    "            print(field,mask.sum(),np.max(cat[field]-catref[field]))\n",
    "        else:\n",
    "            print(field,mask.sum(),cat[field].dtype)\n",
    "        \"\"\""
   ]
  },
  {
   "cell_type": "code",
   "execution_count": 22,
   "metadata": {},
   "outputs": [
    {
     "name": "stdout",
     "output_type": "stream",
     "text": [
      "True\n"
     ]
    }
   ],
   "source": [
    "print(isinstance(cat['dchisq'].flat[0],np.floating))"
   ]
  },
  {
   "cell_type": "code",
   "execution_count": null,
   "metadata": {},
   "outputs": [],
   "source": []
  }
 ],
 "metadata": {
  "kernelspec": {
   "display_name": "DESI master",
   "language": "python",
   "name": "desi-master"
  },
  "language_info": {
   "codemirror_mode": {
    "name": "ipython",
    "version": 3
   },
   "file_extension": ".py",
   "mimetype": "text/x-python",
   "name": "python",
   "nbconvert_exporter": "python",
   "pygments_lexer": "ipython3",
   "version": "3.8.3"
  }
 },
 "nbformat": 4,
 "nbformat_minor": 4
}
