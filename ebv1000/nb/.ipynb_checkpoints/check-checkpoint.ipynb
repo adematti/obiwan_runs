{
 "cells": [
  {
   "cell_type": "code",
   "execution_count": 1,
   "metadata": {},
   "outputs": [
    {
     "name": "stderr",
     "output_type": "stream",
     "text": [
      "WARNING: leap-second auto-update failed due to the following exception: RuntimeError('Cache is locked after 5.01 s. This may indicate an astropy bug or that kill -9 was used. If you want to unlock the cache remove the directory /global/homes/a/adematti/.astropy/cache/download/py3/lock. Lock claims to be held by process 5959.') [astropy.time.core]\n"
     ]
    }
   ],
   "source": [
    "import numpy as np\n",
    "from matplotlib import pyplot as plt\n",
    "from photometry import *\n",
    "#import settings_north as settings\n",
    "import settings_south as settings"
   ]
  },
  {
   "cell_type": "code",
   "execution_count": 2,
   "metadata": {},
   "outputs": [],
   "source": [
    "bricknames = settings.get_bricknames()\n",
    "assert np.unique(bricknames).size == len(bricknames)"
   ]
  },
  {
   "cell_type": "code",
   "execution_count": 3,
   "metadata": {},
   "outputs": [
    {
     "name": "stdout",
     "output_type": "stream",
     "text": [
      "/global/cscratch1/sd/adematti/Obiwan/dr9/ebv1000/north/randoms/randoms.fits\n",
      "Regions ['N']\n",
      "Number of randoms per brick: 270 367\n",
      "107946\n"
     ]
    }
   ],
   "source": [
    "print(settings.randoms_fn)\n",
    "randoms = TargetSelection.load_objects(settings.randoms_fn,radecbox=None,tracer='ELG',region=None)\n",
    "randoms.set_upper_case()\n",
    "print('Regions',np.unique(randoms['PHOTSYS']))\n",
    "assert np.unique(bricknames).tolist() == np.unique(randoms['BRICKNAME']).tolist()\n",
    "counts = []\n",
    "for brickname in bricknames:\n",
    "    counts.append(np.sum(randoms['BRICKNAME'] == brickname))\n",
    "print('Number of randoms per brick:',np.min(counts),np.max(counts))\n",
    "randoms.region = 'N' if settings.run == 'north' else 'S'\n",
    "randoms.set_estimated_transmission(key='MW_TRANSMISSION')\n",
    "randoms.set_estimated_flux(key='EFLUX',key_transmission='MW_TRANSMISSION',key_flux='FLUX')\n",
    "mask = randoms.mask_ts(key_flux='EFLUX')\n",
    "randoms.set_mag_from_flux(key_flux='EFLUX')\n",
    "randoms['GR'] = randoms['G'] - randoms['R']\n",
    "randoms['RZ'] = randoms['R'] - randoms['Z']\n",
    "print((~mask).sum())"
   ]
  },
  {
   "cell_type": "code",
   "execution_count": 4,
   "metadata": {},
   "outputs": [
    {
     "data": {
      "text/plain": [
       "Text(0, 0.5, '$r-z$')"
      ]
     },
     "execution_count": 4,
     "metadata": {},
     "output_type": "execute_result"
    },
    {
     "data": {
      "image/png": "[encoded data removed]",
      "text/plain": [
       "<Figure size 288x288 with 1 Axes>"
      ]
     },
     "metadata": {
      "needs_background": "light"
     },
     "output_type": "display_data"
    }
   ],
   "source": [
    "fig,ax = plt.subplots(ncols=1,nrows=1,sharex=False,sharey=False,figsize=(4,4))\n",
    "ax.scatter(randoms['RZ'],randoms['GR'],color='b')\n",
    "ax.scatter(randoms['RZ'][mask],randoms['GR'][mask],color='r')\n",
    "ax.set_xlim(-1.,2.)\n",
    "ax.set_ylim(-0.5,2.)\n",
    "ax.set_xlabel('$g-r$')\n",
    "ax.set_ylabel('$r-z$')"
   ]
  },
  {
   "cell_type": "code",
   "execution_count": 5,
   "metadata": {},
   "outputs": [
    {
     "name": "stdout",
     "output_type": "stream",
     "text": [
      "G 19.50074746558659 20.079824836548028 23.999986052299754 23.499998958221976\n",
      "GR -4.550731337389127 -4.550731337389127 1.1733742573399866 0.6773723045418407\n",
      "RZ -0.1980421680242621 0.30106557790008637 2.047086743455253 1.539974577777425\n"
     ]
    }
   ],
   "source": [
    "for field in ['G','GR','RZ']:\n",
    "    print(field,randoms[field].min(),randoms[field][mask].min(),randoms[field].max(),randoms[field][mask].max())"
   ]
  },
  {
   "cell_type": "code",
   "execution_count": 6,
   "metadata": {},
   "outputs": [
    {
     "name": "stdout",
     "output_type": "stream",
     "text": [
      "RELEASE (124650,)\n",
      "BRICKID (124650,)\n",
      "BRICKNAME (124650,)\n",
      "BRICK_OBJID (124650,)\n",
      "RA (124650,)\n",
      "DEC (124650,)\n",
      "NOBS_G (124650,)\n",
      "NOBS_R (124650,)\n",
      "NOBS_Z (124650,)\n",
      "PSFDEPTH_G (124650,)\n",
      "PSFDEPTH_R (124650,)\n",
      "PSFDEPTH_Z (124650,)\n",
      "GALDEPTH_G (124650,)\n",
      "GALDEPTH_R (124650,)\n",
      "GALDEPTH_Z (124650,)\n",
      "PSFDEPTH_W1 (124650,)\n",
      "PSFDEPTH_W2 (124650,)\n",
      "PSFSIZE_G (124650,)\n",
      "PSFSIZE_R (124650,)\n",
      "PSFSIZE_Z (124650,)\n",
      "APFLUX_G (124650,)\n",
      "APFLUX_R (124650,)\n",
      "APFLUX_Z (124650,)\n",
      "APFLUX_IVAR_G (124650,)\n",
      "APFLUX_IVAR_R (124650,)\n",
      "APFLUX_IVAR_Z (124650,)\n",
      "MASKBITS (124650,)\n",
      "WISEMASK_W1 (124650,)\n",
      "WISEMASK_W2 (124650,)\n",
      "EBV (124650,)\n",
      "PHOTSYS (124650,)\n",
      "HPXPIXEL (124650,)\n",
      "DESI_TARGET (124650,)\n",
      "BGS_TARGET (124650,)\n",
      "MWS_TARGET (124650,)\n",
      "SUBPRIORITY (124650,)\n",
      "OBSCONDITIONS (124650,)\n",
      "PRIORITY_INIT (124650,)\n",
      "NUMOBS_INIT (124650,)\n",
      "SCND_TARGET (124650,)\n",
      "NUMOBS_MORE (124650,)\n",
      "NUMOBS (124650,)\n",
      "Z (124650,)\n",
      "ZWARN (124650,)\n",
      "TARGET_STATE (124650,)\n",
      "TIMESTAMP (124650,)\n",
      "VERSION (124650,)\n",
      "PRIORITY (124650,)\n",
      "ID (124650,)\n",
      "ID_TRUTH (124650,)\n",
      "G (124650,)\n",
      "R (124650,)\n",
      "SHAPE_R (124650,)\n",
      "SERSIC (124650,)\n",
      "REDSHIFT (124650,)\n",
      "MW_TRANSMISSION_G (124650,)\n",
      "FLUX_G (124650,)\n",
      "MW_TRANSMISSION_R (124650,)\n",
      "FLUX_R (124650,)\n",
      "MW_TRANSMISSION_Z (124650,)\n",
      "FLUX_Z (124650,)\n",
      "SHAPE_E1 (124650,)\n",
      "SHAPE_E2 (124650,)\n",
      "EFLUX_G (124650,)\n",
      "EFLUX_R (124650,)\n",
      "EFLUX_Z (124650,)\n",
      "GR (124650,)\n",
      "RZ (124650,)\n"
     ]
    }
   ],
   "source": [
    "for field in randoms.fields:\n",
    "    print(field,randoms[field].shape)"
   ]
  },
  {
   "cell_type": "code",
   "execution_count": null,
   "metadata": {},
   "outputs": [],
   "source": []
  }
 ],
 "metadata": {
  "kernelspec": {
   "display_name": "DESI master",
   "language": "python",
   "name": "desi-master"
  },
  "language_info": {
   "codemirror_mode": {
    "name": "ipython",
    "version": 3
   },
   "file_extension": ".py",
   "mimetype": "text/x-python",
   "name": "python",
   "nbconvert_exporter": "python",
   "pygments_lexer": "ipython3",
   "version": "3.8.3"
  }
 },
 "nbformat": 4,
 "nbformat_minor": 4
}
