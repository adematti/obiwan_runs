{
 "cells": [
  {
   "cell_type": "code",
   "execution_count": 1,
   "metadata": {},
   "outputs": [
    {
     "name": "stderr",
     "output_type": "stream",
     "text": [
      "WARNING: leap-second auto-update failed due to the following exception: RuntimeError('Cache is locked after 5.06 s. This may indicate an astropy bug or that kill -9 was used. If you want to unlock the cache remove the directory /global/homes/a/adematti/.astropy/cache/download/py3/lock. Lock claims to be held by process 5959.') [astropy.time.core]\n"
     ]
    }
   ],
   "source": [
    "import numpy as np\n",
    "from matplotlib import pyplot as plt\n",
    "from photometry import *\n",
    "#import settings_north as settings\n",
    "import settings_south as settings"
   ]
  },
  {
   "cell_type": "code",
   "execution_count": 2,
   "metadata": {},
   "outputs": [],
   "source": [
    "bricknames = settings.get_bricknames()\n",
    "assert np.unique(bricknames).size == len(bricknames)"
   ]
  },
  {
   "cell_type": "code",
   "execution_count": 3,
   "metadata": {},
   "outputs": [
    {
     "name": "stdout",
     "output_type": "stream",
     "text": [
      "/global/cscratch1/sd/adematti/Obiwan/dr9/ebv1000/south/randoms/randoms.fits\n",
      "Regions ['S']\n",
      "Number of randoms per brick: 263 360\n",
      "166100\n"
     ]
    }
   ],
   "source": [
    "print(settings.randoms_fn)\n",
    "randoms = TargetSelection.load_objects(settings.randoms_fn,radecbox=None,tracer='ELG',region=None)\n",
    "randoms.set_upper_case()\n",
    "print('Regions',np.unique(randoms['PHOTSYS']))\n",
    "assert np.unique(bricknames).tolist() == np.unique(randoms['BRICKNAME']).tolist()\n",
    "counts = []\n",
    "for brickname in bricknames:\n",
    "    counts.append(np.sum(randoms['BRICKNAME'] == brickname))\n",
    "print('Number of randoms per brick:',np.min(counts),np.max(counts))\n",
    "randoms.region = 'N' if settings.run == 'north' else 'S'\n",
    "randoms.set_estimated_transmission(key='MW_TRANSMISSION')\n",
    "randoms.set_estimated_flux(key='EFLUX',key_transmission='MW_TRANSMISSION',key_flux='FLUX')\n",
    "mask = randoms.mask_ts(key_flux='EFLUX')\n",
    "randoms.set_mag_from_flux(key_flux='EFLUX')\n",
    "randoms['GR'] = randoms['G'] - randoms['R']\n",
    "randoms['RZ'] = randoms['R'] - randoms['Z']\n",
    "print((~mask).sum())"
   ]
  },
  {
   "cell_type": "code",
   "execution_count": 4,
   "metadata": {},
   "outputs": [
    {
     "data": {
      "text/plain": [
       "Text(0, 0.5, '$r-z$')"
      ]
     },
     "execution_count": 4,
     "metadata": {},
     "output_type": "execute_result"
    },
    {
     "data": {
      "image/png": "[encoded data removed]",
      "text/plain": [
       "<Figure size 288x288 with 1 Axes>"
      ]
     },
     "metadata": {
      "needs_background": "light"
     },
     "output_type": "display_data"
    }
   ],
   "source": [
    "fig,ax = plt.subplots(ncols=1,nrows=1,sharex=False,sharey=False,figsize=(4,4))\n",
    "ax.scatter(randoms['RZ'],randoms['GR'],color='b')\n",
    "ax.scatter(randoms['RZ'][mask],randoms['GR'][mask],color='r')\n",
    "ax.set_xlim(-1.,2.)\n",
    "ax.set_ylim(-0.5,2.)\n",
    "ax.set_xlabel('$g-r$')\n",
    "ax.set_ylabel('$r-z$')"
   ]
  },
  {
   "cell_type": "code",
   "execution_count": 5,
   "metadata": {},
   "outputs": [
    {
     "name": "stdout",
     "output_type": "stream",
     "text": [
      "G 19.50074658077523 20.036570603314647 23.89999598082776 23.399765012617777\n",
      "GR -4.550731857353298 -4.550731857353298 1.2049505207924618 0.7019889568683553\n",
      "RZ -0.19814661091939456 0.3005350498273316 2.0470866823610656 1.57642027944231\n"
     ]
    }
   ],
   "source": [
    "for field in ['G','GR','RZ']:\n",
    "    print(field,randoms[field].min(),randoms[field][mask].min(),randoms[field].max(),randoms[field][mask].max())"
   ]
  },
  {
   "cell_type": "code",
   "execution_count": 6,
   "metadata": {},
   "outputs": [
    {
     "name": "stdout",
     "output_type": "stream",
     "text": [
      "RELEASE (187632,)\n",
      "BRICKID (187632,)\n",
      "BRICKNAME (187632,)\n",
      "BRICK_OBJID (187632,)\n",
      "RA (187632,)\n",
      "DEC (187632,)\n",
      "NOBS_G (187632,)\n",
      "NOBS_R (187632,)\n",
      "NOBS_Z (187632,)\n",
      "PSFDEPTH_G (187632,)\n",
      "PSFDEPTH_R (187632,)\n",
      "PSFDEPTH_Z (187632,)\n",
      "GALDEPTH_G (187632,)\n",
      "GALDEPTH_R (187632,)\n",
      "GALDEPTH_Z (187632,)\n",
      "PSFDEPTH_W1 (187632,)\n",
      "PSFDEPTH_W2 (187632,)\n",
      "PSFSIZE_G (187632,)\n",
      "PSFSIZE_R (187632,)\n",
      "PSFSIZE_Z (187632,)\n",
      "APFLUX_G (187632,)\n",
      "APFLUX_R (187632,)\n",
      "APFLUX_Z (187632,)\n",
      "APFLUX_IVAR_G (187632,)\n",
      "APFLUX_IVAR_R (187632,)\n",
      "APFLUX_IVAR_Z (187632,)\n",
      "MASKBITS (187632,)\n",
      "WISEMASK_W1 (187632,)\n",
      "WISEMASK_W2 (187632,)\n",
      "EBV (187632,)\n",
      "PHOTSYS (187632,)\n",
      "HPXPIXEL (187632,)\n",
      "DESI_TARGET (187632,)\n",
      "BGS_TARGET (187632,)\n",
      "MWS_TARGET (187632,)\n",
      "SUBPRIORITY (187632,)\n",
      "OBSCONDITIONS (187632,)\n",
      "PRIORITY_INIT (187632,)\n",
      "NUMOBS_INIT (187632,)\n",
      "SCND_TARGET (187632,)\n",
      "NUMOBS_MORE (187632,)\n",
      "NUMOBS (187632,)\n",
      "Z (187632,)\n",
      "ZWARN (187632,)\n",
      "TARGET_STATE (187632,)\n",
      "TIMESTAMP (187632,)\n",
      "VERSION (187632,)\n",
      "PRIORITY (187632,)\n",
      "ID (187632,)\n",
      "ID_TRUTH (187632,)\n",
      "G (187632,)\n",
      "R (187632,)\n",
      "SHAPE_R (187632,)\n",
      "SERSIC (187632,)\n",
      "REDSHIFT (187632,)\n",
      "MW_TRANSMISSION_G (187632,)\n",
      "FLUX_G (187632,)\n",
      "MW_TRANSMISSION_R (187632,)\n",
      "FLUX_R (187632,)\n",
      "MW_TRANSMISSION_Z (187632,)\n",
      "FLUX_Z (187632,)\n",
      "SHAPE_E1 (187632,)\n",
      "SHAPE_E2 (187632,)\n",
      "EFLUX_G (187632,)\n",
      "EFLUX_R (187632,)\n",
      "EFLUX_Z (187632,)\n",
      "GR (187632,)\n",
      "RZ (187632,)\n"
     ]
    }
   ],
   "source": [
    "for field in randoms.fields:\n",
    "    print(field,randoms[field].shape)"
   ]
  },
  {
   "cell_type": "code",
   "execution_count": null,
   "metadata": {},
   "outputs": [],
   "source": []
  }
 ],
 "metadata": {
  "kernelspec": {
   "display_name": "DESI master",
   "language": "python",
   "name": "desi-master"
  },
  "language_info": {
   "codemirror_mode": {
    "name": "ipython",
    "version": 3
   },
   "file_extension": ".py",
   "mimetype": "text/x-python",
   "name": "python",
   "nbconvert_exporter": "python",
   "pygments_lexer": "ipython3",
   "version": "3.8.3"
  }
 },
 "nbformat": 4,
 "nbformat_minor": 4
}
