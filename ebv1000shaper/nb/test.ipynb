{
 "cells": [
  {
   "cell_type": "code",
   "execution_count": 12,
   "metadata": {},
   "outputs": [
    {
     "name": "stdout",
     "output_type": "stream",
     "text": [
      "[0.         1.86033578]\n"
     ]
    },
    {
     "data": {
      "image/png": "[encoded data removed]",
      "text/plain": [
       "<Figure size 432x288 with 1 Axes>"
      ]
     },
     "metadata": {
      "needs_background": "light"
     },
     "output_type": "display_data"
    }
   ],
   "source": [
    "import numpy as np\n",
    "import fitsio\n",
    "from matplotlib import pyplot as plt\n",
    "import settings_north as settings\n",
    "\n",
    "truth = fitsio.read(settings.truth_fn)\n",
    "print(np.percentile(truth['rhalf'],q=[0.,99.]))\n",
    "bins = np.logspace(-2,1,100)\n",
    "plt.hist(truth['rhalf'],bins=bins)\n",
    "plt.xscale('log')\n",
    "plt.show()"
   ]
  },
  {
   "cell_type": "code",
   "execution_count": 15,
   "metadata": {},
   "outputs": [],
   "source": [
    "def isELG_colors(gflux=None, rflux=None, zflux=None, south=True, gmarg=0., grmarg=0., rzmarg=0., primary=None):\n",
    "    \"\"\"\n",
    "    Apply ELG selection with box enlarged by ``gmarg``, ``grmarg``, ``rzmarg``.\n",
    "\n",
    "    Base selection from https://github.com/desihub/desitarget/blob/master/py/desitarget/cuts.py.\n",
    "    \"\"\"\n",
    "    if primary is None:\n",
    "        primary = np.ones_like(rflux, dtype='?')\n",
    "    elg = primary.copy()\n",
    "\n",
    "    # ADM work in magnitudes instead of fluxes. NOTE THIS IS ONLY OK AS\n",
    "    # ADM the snr masking in ALL OF g, r AND z ENSURES positive fluxes.\n",
    "    g = 22.5 - 2.5*np.log10(gflux.clip(1e-16))\n",
    "    r = 22.5 - 2.5*np.log10(rflux.clip(1e-16))\n",
    "    z = 22.5 - 2.5*np.log10(zflux.clip(1e-16))\n",
    "\n",
    "    # ADM cuts shared by the northern and southern selections.\n",
    "    elg &= g > 20 - gmarg                          # bright cut.\n",
    "    elg &= r - z > 0.3 - rzmarg                    # blue cut.\n",
    "    elg &= r - z < 1.6 + rzmarg                    # red cut.\n",
    "    elg &= g - r < -1.2*(r - z) + 1.6 + grmarg     # OII flux cut.\n",
    "\n",
    "    # ADM cuts that are unique to the north or south.\n",
    "    if south:\n",
    "        elg &= g < 23.4 + gmarg # faint cut.\n",
    "        # ADM south has the FDR cut to remove stars and low-z galaxies.\n",
    "        elg &= g - r < 1.15*(r - z) - 0.15 + grmarg\n",
    "    else:\n",
    "        elg &= g < 23.5 + gmarg # faint cut.\n",
    "        elg &= g - r < 1.15*(r - z) - 0.20 + grmarg # remove stars and low-z galaxies.\n",
    "\n",
    "    return elg\n"
   ]
  },
  {
   "cell_type": "code",
   "execution_count": 21,
   "metadata": {},
   "outputs": [
    {
     "name": "stdout",
     "output_type": "stream",
     "text": [
      "[0.         3.45497756] 147.66854858398438\n",
      "37.16431833852434 -4.482771988682373\n"
     ]
    },
    {
     "data": {
      "image/png": "[encoded data removed]",
      "text/plain": [
       "<Figure size 432x288 with 1 Axes>"
      ]
     },
     "metadata": {
      "needs_background": "light"
     },
     "output_type": "display_data"
    }
   ],
   "source": [
    "gflux = 10**((truth['g'] - 22.5)/-2.5)\n",
    "rflux = 10**((truth['r'] - 22.5)/-2.5)\n",
    "zflux = 10**((truth['z'] - 22.5)/-2.5)\n",
    "mask = isELG_colors(gflux=gflux, rflux=rflux, zflux=zflux, south=True, gmarg=0.5, grmarg=0.5, rzmarg=0.5)\n",
    "\n",
    "print(np.percentile(truth['rhalf'][mask],q=[0.,99.]),truth['rhalf'][mask].max())\n",
    "argmax = truth['rhalf'][mask].argmax()\n",
    "print(truth['ra'][mask][argmax],truth['dec'][mask][argmax])\n",
    "bins = np.logspace(-2,1,100)\n",
    "plt.hist(truth['rhalf'][mask],bins=bins)\n",
    "plt.xscale('log')\n",
    "plt.show()"
   ]
  },
  {
   "cell_type": "code",
   "execution_count": null,
   "metadata": {},
   "outputs": [],
   "source": []
  }
 ],
 "metadata": {
  "kernelspec": {
   "display_name": "DESI master",
   "language": "python",
   "name": "desi-master"
  },
  "language_info": {
   "codemirror_mode": {
    "name": "ipython",
    "version": 3
   },
   "file_extension": ".py",
   "mimetype": "text/x-python",
   "name": "python",
   "nbconvert_exporter": "python",
   "pygments_lexer": "ipython3",
   "version": "3.8.3"
  }
 },
 "nbformat": 4,
 "nbformat_minor": 4
}
